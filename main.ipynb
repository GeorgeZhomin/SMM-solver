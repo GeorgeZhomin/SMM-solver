{
 "cells": [
  {
   "cell_type": "markdown",
   "metadata": {},
   "source": [
    "### Initial configuration"
   ]
  },
  {
   "cell_type": "code",
   "execution_count": 1,
   "metadata": {},
   "outputs": [],
   "source": [
    "import sympy as smp\n",
    "import numpy as np\n",
    "import matplotlib.pyplot as plt\n",
    "\n",
    "from IPython.core.interactiveshell import InteractiveShell\n",
    "InteractiveShell.ast_node_interactivity = 'last'"
   ]
  },
  {
   "cell_type": "code",
   "execution_count": 61,
   "metadata": {},
   "outputs": [],
   "source": [
    "plt.rcParams['figure.figsize'] = (5,4)"
   ]
  },
  {
   "cell_type": "markdown",
   "metadata": {},
   "source": [
    "## Moment of inertia"
   ]
  },
  {
   "cell_type": "markdown",
   "metadata": {},
   "source": [
    "### Initial conditions"
   ]
  },
  {
   "cell_type": "code",
   "execution_count": 83,
   "metadata": {},
   "outputs": [],
   "source": [
    "E = 1\n",
    "\n",
    "vertices = list(zip(\n",
    "    (0, 15, 15, 10, 10, 5, 5, 0), #x-координаты вершин\n",
    "    (0, 0, 5, 5, 10, 10, 5, 5) #y-координаты вершин\n",
    "    ))\n",
    "# vertices = [tuple(smp.S(num) for num in vertex) for vertex in vertices] #float -> sympy\n",
    "vertices.append(vertices[0]) #замыкает многоугольник"
   ]
  },
  {
   "cell_type": "code",
   "execution_count": 84,
   "metadata": {},
   "outputs": [
    {
     "data": {
      "image/png": "[encoded data removed]",
      "text/plain": [
       "<Figure size 500x400 with 1 Axes>"
      ]
     },
     "metadata": {},
     "output_type": "display_data"
    }
   ],
   "source": [
    "fig, ax = plt.subplots()\n",
    "ax.plot(*zip(*vertices))\n",
    "plt.show()"
   ]
  },
  {
   "cell_type": "markdown",
   "metadata": {},
   "source": [
    "### Moments of area"
   ]
  },
  {
   "cell_type": "code",
   "execution_count": 90,
   "metadata": {},
   "outputs": [],
   "source": [
    "A = np.abs(sum(vertices[i][0]*vertices[i+1][1] - vertices[i+1][0]*vertices[i][1] for i in range(len(vertices)-1))/2) #площадь\n",
    "c = (\n",
    "    np.abs(sum((vertices[i][0] + vertices[i+1][0])*(vertices[i][0]*vertices[i+1][1] - vertices[i+1][0]*vertices[i][1]) for i in range(len(vertices)-1))/(6*A)),\n",
    "    np.abs(sum((vertices[i][1] + vertices[i+1][1])*(vertices[i][0]*vertices[i+1][1] - vertices[i+1][0]*vertices[i][1]) for i in range(len(vertices)-1))/(6*A))\n",
    "    ) #координаты центра масс\n",
    "Jx = np.abs(sum((vertices[i][0]*vertices[i+1][1] - vertices[i+1][0]*vertices[i][1])*(vertices[i][0]**2 + vertices[i][0]*vertices[i+1][0] + vertices[i+1][0]**2) for i in range(len(vertices)-1))/12) #момент инеции относительно x\n",
    "Jcx = Jx - A*c[1]**2 #момент инерции относительно оси, параллельной x и проходящей через центр масс"
   ]
  },
  {
   "cell_type": "code",
   "execution_count": 91,
   "metadata": {},
   "outputs": [
    {
     "data": {
      "text/plain": [
       "(100.0, (7.5, 3.75), 5677.083333333333)"
      ]
     },
     "execution_count": 91,
     "metadata": {},
     "output_type": "execute_result"
    }
   ],
   "source": [
    "A, c, Jcx"
   ]
  },
  {
   "cell_type": "markdown",
   "metadata": {},
   "source": [
    "## Internal forces"
   ]
  },
  {
   "cell_type": "markdown",
   "metadata": {},
   "source": [
    "### Initial conditions"
   ]
  },
  {
   "cell_type": "code",
   "execution_count": 2,
   "metadata": {},
   "outputs": [],
   "source": [
    "eps = smp.symbols('varepsilon', positive=True)\n",
    "\n",
    "parameters = smp.symbols('q0 a', positive=True) #параметры. Символы y0, dy0, N, t зарезервированы\n",
    "q0, a = parameters\n",
    "parameter_values = [1, 1] #значения параметров если даны, иначе None\n",
    "\n",
    "x = smp.symbols('x')"
   ]
  },
  {
   "cell_type": "code",
   "execution_count": 3,
   "metadata": {},
   "outputs": [],
   "source": [
    "l = a #длина балки\n",
    "x_rigid = [0] #точки жёсткого крепления\n",
    "x_hinge = [l] #точки шарнирного крепления\n",
    "q = smp.Piecewise((q0, (0 <= x) & (x < a)), (0, True)) #распределённая сила\n",
    "F, xF = [], [] #силы и точки их приложения кроме реакций опор\n",
    "t, xt = [], [] #моменты сил и точки их приложения кроме реакций опор"
   ]
  },
  {
   "cell_type": "code",
   "execution_count": 4,
   "metadata": {},
   "outputs": [],
   "source": [
    "y0, dy0 = smp.symbols('y0, dy0') #y и y' при x = 0\n",
    "N_base, t_base = smp.IndexedBase('N'), smp.IndexedBase('t') #силы и моменты реакций опор\n",
    "\n",
    "F_contact = [N_base[i] for i in range(len(x_rigid) + len(x_hinge))]\n",
    "F.extend(F_contact)\n",
    "xF.extend(x_rigid + x_hinge)\n",
    "t_contact = [t_base[i] for i in range(len(x_rigid))]\n",
    "t.extend(t_contact)\n",
    "xt.extend(x_rigid)\n",
    "\n",
    "variables = (y0, dy0, *F_contact, *t_contact)"
   ]
  },
  {
   "cell_type": "code",
   "execution_count": 5,
   "metadata": {},
   "outputs": [
    {
     "data": {
      "text/latex": [
       "$\\displaystyle \\left( \\left[ {N}_{0}, \\  {N}_{1}\\right], \\  \\left[ 0, \\  a\\right]\\right)$"
      ],
      "text/plain": [
       "([N[0], N[1]], [0, a])"
      ]
     },
     "metadata": {},
     "output_type": "display_data"
    },
    {
     "data": {
      "text/latex": [
       "$\\displaystyle \\left( \\left[ {t}_{0}\\right], \\  \\left[ 0\\right]\\right)$"
      ],
      "text/plain": [
       "([t[0]], [0])"
      ]
     },
     "metadata": {},
     "output_type": "display_data"
    }
   ],
   "source": [
    "display(smp.Tuple(F, xF))\n",
    "display(smp.Tuple(t, xt))"
   ]
  },
  {
   "cell_type": "markdown",
   "metadata": {},
   "source": [
    "### Integration"
   ]
  },
  {
   "cell_type": "code",
   "execution_count": 6,
   "metadata": {},
   "outputs": [],
   "source": [
    "funcs = {}\n",
    "funcs['Q'] = smp.integrate(q, (x,0,x)) + sum(Fi*smp.Heaviside(x-xi) for Fi, xi in zip(F, xF))\n",
    "funcs['M'] = (-smp.integrate(funcs['Q'], (x,0,x)) + sum(ti*smp.Heaviside(x-xi) for ti, xi in zip(t, xt)))\n",
    "funcs['dy'] = (dy0 + smp.integrate(funcs['M'], (x,0,x)))\n",
    "funcs['y'] = (y0 + smp.integrate(funcs['dy'], (x,0,x)))\n",
    "\n",
    "funcs = {func_name: smp.piecewise_fold(func.rewrite(smp.Piecewise)).simplify() for func_name, func in funcs.items()}"
   ]
  },
  {
   "cell_type": "code",
   "execution_count": 7,
   "metadata": {},
   "outputs": [
    {
     "data": {
      "text/latex": [
       "$\\displaystyle \\begin{cases} 0 & \\text{for}\\: x < 0 \\\\\\frac{{N}_{0}}{2} & \\text{for}\\: x = 0 \\\\q_{0} x + {N}_{0} & \\text{for}\\: a > x \\\\q_{0} x + {N}_{0} + \\frac{{N}_{1}}{2} & \\text{for}\\: a = x \\\\a q_{0} + {N}_{0} + {N}_{1} & \\text{otherwise} \\end{cases}$"
      ],
      "text/plain": [
       "Piecewise((0, x < 0), (N[0]/2, Eq(x, 0)), (q0*x + N[0], a > x), (q0*x + N[0] + N[1]/2, Eq(a, x)), (a*q0 + N[0] + N[1], True))"
      ]
     },
     "metadata": {},
     "output_type": "display_data"
    },
    {
     "data": {
      "text/latex": [
       "$\\displaystyle \\begin{cases} 0 & \\text{for}\\: x < 0 \\\\\\frac{a^{2} q_{0}}{2} - a q_{0} x + a {N}_{1} - x {N}_{0} - x {N}_{1} + {t}_{0} & \\text{for}\\: a \\leq x \\\\\\frac{{t}_{0}}{2} & \\text{for}\\: x = 0 \\\\- \\frac{q_{0} x^{2}}{2} - x {N}_{0} + {t}_{0} & \\text{otherwise} \\end{cases}$"
      ],
      "text/plain": [
       "Piecewise((0, x < 0), (a**2*q0/2 - a*q0*x + a*N[1] - x*N[0] - x*N[1] + t[0], a <= x), (t[0]/2, Eq(x, 0)), (-q0*x**2/2 - x*N[0] + t[0], True))"
      ]
     },
     "metadata": {},
     "output_type": "display_data"
    },
    {
     "data": {
      "text/latex": [
       "$\\displaystyle \\begin{cases} dy_{0} & \\text{for}\\: x < 0 \\\\- \\frac{a^{3} q_{0}}{6} + \\frac{a^{2} q_{0} x}{2} - \\frac{a^{2} {N}_{1}}{2} - \\frac{a q_{0} x^{2}}{2} + a x {N}_{1} + dy_{0} - \\frac{x^{2} {N}_{0}}{2} - \\frac{x^{2} {N}_{1}}{2} + x {t}_{0} & \\text{for}\\: a \\leq x \\\\dy_{0} - \\frac{q_{0} x^{3}}{6} - \\frac{x^{2} {N}_{0}}{2} + x {t}_{0} & \\text{otherwise} \\end{cases}$"
      ],
      "text/plain": [
       "Piecewise((dy0, x < 0), (-a**3*q0/6 + a**2*q0*x/2 - a**2*N[1]/2 - a*q0*x**2/2 + a*x*N[1] + dy0 - x**2*N[0]/2 - x**2*N[1]/2 + x*t[0], a <= x), (dy0 - q0*x**3/6 - x**2*N[0]/2 + x*t[0], True))"
      ]
     },
     "metadata": {},
     "output_type": "display_data"
    },
    {
     "data": {
      "text/latex": [
       "$\\displaystyle \\begin{cases} dy_{0} x + y_{0} & \\text{for}\\: x < 0 \\\\\\frac{a^{4} q_{0}}{24} - \\frac{a^{3} q_{0} x}{6} + \\frac{a^{3} {N}_{1}}{6} + \\frac{a^{2} q_{0} x^{2}}{4} - \\frac{a^{2} x {N}_{1}}{2} - \\frac{a q_{0} x^{3}}{6} + \\frac{a x^{2} {N}_{1}}{2} + dy_{0} x - \\frac{x^{3} {N}_{0}}{6} - \\frac{x^{3} {N}_{1}}{6} + \\frac{x^{2} {t}_{0}}{2} + y_{0} & \\text{for}\\: a \\leq x \\\\dy_{0} x - \\frac{q_{0} x^{4}}{24} - \\frac{x^{3} {N}_{0}}{6} + \\frac{x^{2} {t}_{0}}{2} + y_{0} & \\text{otherwise} \\end{cases}$"
      ],
      "text/plain": [
       "Piecewise((dy0*x + y0, x < 0), (a**4*q0/24 - a**3*q0*x/6 + a**3*N[1]/6 + a**2*q0*x**2/4 - a**2*x*N[1]/2 - a*q0*x**3/6 + a*x**2*N[1]/2 + dy0*x - x**3*N[0]/6 - x**3*N[1]/6 + x**2*t[0]/2 + y0, a <= x), (dy0*x - q0*x**4/24 - x**3*N[0]/6 + x**2*t[0]/2 + y0, True))"
      ]
     },
     "metadata": {},
     "output_type": "display_data"
    }
   ],
   "source": [
    "display(*funcs.values())"
   ]
  },
  {
   "cell_type": "markdown",
   "metadata": {},
   "source": [
    "### Solving for contact forces"
   ]
  },
  {
   "cell_type": "code",
   "execution_count": 8,
   "metadata": {},
   "outputs": [],
   "source": [
    "eq_system = [\n",
    "    funcs['Q'].subs(x, l+eps).subs(eps, 0), #сумма всех сил\n",
    "    funcs['M'].subs(x, l+eps).subs(eps, 0), #сумма всех моментов сил\n",
    "    *[funcs['y'].subs(x, coord) for coord in x_rigid + x_hinge], #условия крепления\n",
    "    *[funcs['dy'].subs(x, coord) for coord in x_rigid]\n",
    "]"
   ]
  },
  {
   "cell_type": "code",
   "execution_count": 9,
   "metadata": {},
   "outputs": [
    {
     "data": {
      "text/latex": [
       "$\\displaystyle a q_{0} + {N}_{0} + {N}_{1}$"
      ],
      "text/plain": [
       "a*q0 + N[0] + N[1]"
      ]
     },
     "metadata": {},
     "output_type": "display_data"
    },
    {
     "data": {
      "text/latex": [
       "$\\displaystyle - \\frac{a^{2} q_{0}}{2} - a {N}_{0} + {t}_{0}$"
      ],
      "text/plain": [
       "-a**2*q0/2 - a*N[0] + t[0]"
      ]
     },
     "metadata": {},
     "output_type": "display_data"
    },
    {
     "data": {
      "text/latex": [
       "$\\displaystyle y_{0}$"
      ],
      "text/plain": [
       "y0"
      ]
     },
     "metadata": {},
     "output_type": "display_data"
    },
    {
     "data": {
      "text/latex": [
       "$\\displaystyle - \\frac{a^{4} q_{0}}{24} - \\frac{a^{3} {N}_{0}}{6} + \\frac{a^{2} {t}_{0}}{2} + a dy_{0} + y_{0}$"
      ],
      "text/plain": [
       "-a**4*q0/24 - a**3*N[0]/6 + a**2*t[0]/2 + a*dy0 + y0"
      ]
     },
     "metadata": {},
     "output_type": "display_data"
    },
    {
     "data": {
      "text/latex": [
       "$\\displaystyle dy_{0}$"
      ],
      "text/plain": [
       "dy0"
      ]
     },
     "metadata": {},
     "output_type": "display_data"
    }
   ],
   "source": [
    "display(*eq_system)"
   ]
  },
  {
   "cell_type": "code",
   "execution_count": 10,
   "metadata": {},
   "outputs": [
    {
     "data": {
      "text/latex": [
       "$\\displaystyle \\left( y_{0}, \\  dy_{0}, \\  {N}_{0}, \\  {N}_{1}, \\  {t}_{0}\\right)$"
      ],
      "text/plain": [
       "(y0, dy0, N[0], N[1], t[0])"
      ]
     },
     "metadata": {},
     "output_type": "display_data"
    },
    {
     "data": {
      "text/latex": [
       "$\\displaystyle \\left( 0, \\  0, \\  - \\frac{5 a q_{0}}{8}, \\  - \\frac{3 a q_{0}}{8}, \\  - \\frac{a^{2} q_{0}}{8}\\right)$"
      ],
      "text/plain": [
       "(0, 0, -5*a*q0/8, -3*a*q0/8, -a**2*q0/8)"
      ]
     },
     "metadata": {},
     "output_type": "display_data"
    }
   ],
   "source": [
    "solution = smp.linsolve(eq_system, *variables)\n",
    "assert len(solution) == 1, 'Решение не единственно'\n",
    "variable_values = list(solution)[0]\n",
    "display(smp.Tuple(*variables))\n",
    "display(variable_values)"
   ]
  },
  {
   "cell_type": "markdown",
   "metadata": {},
   "source": [
    "### Variables substitution"
   ]
  },
  {
   "cell_type": "code",
   "execution_count": 11,
   "metadata": {},
   "outputs": [],
   "source": [
    "funcs_var_subs = {func_name: func.subs(zip(variables, variable_values)) for func_name, func in funcs.items()}"
   ]
  },
  {
   "cell_type": "code",
   "execution_count": 12,
   "metadata": {},
   "outputs": [
    {
     "data": {
      "text/latex": [
       "$\\displaystyle \\begin{cases} 0 & \\text{for}\\: x < 0 \\\\- \\frac{5 a q_{0}}{16} & \\text{for}\\: x = 0 \\\\- \\frac{5 a q_{0}}{8} + q_{0} x & \\text{for}\\: a > x \\\\- \\frac{13 a q_{0}}{16} + q_{0} x & \\text{for}\\: a = x \\\\0 & \\text{otherwise} \\end{cases}$"
      ],
      "text/plain": [
       "Piecewise((0, x < 0), (-5*a*q0/16, Eq(x, 0)), (-5*a*q0/8 + q0*x, a > x), (-13*a*q0/16 + q0*x, Eq(a, x)), (0, True))"
      ]
     },
     "metadata": {},
     "output_type": "display_data"
    },
    {
     "data": {
      "text/latex": [
       "$\\displaystyle \\begin{cases} 0 & \\text{for}\\: a \\leq x \\vee x < 0 \\\\- \\frac{a^{2} q_{0}}{16} & \\text{for}\\: x = 0 \\\\- \\frac{a^{2} q_{0}}{8} + \\frac{5 a q_{0} x}{8} - \\frac{q_{0} x^{2}}{2} & \\text{otherwise} \\end{cases}$"
      ],
      "text/plain": [
       "Piecewise((0, (a <= x) | (x < 0)), (-a**2*q0/16, Eq(x, 0)), (-a**2*q0/8 + 5*a*q0*x/8 - q0*x**2/2, True))"
      ]
     },
     "metadata": {},
     "output_type": "display_data"
    },
    {
     "data": {
      "text/latex": [
       "$\\displaystyle \\begin{cases} 0 & \\text{for}\\: x < 0 \\\\\\frac{a^{3} q_{0}}{48} & \\text{for}\\: a \\leq x \\\\- \\frac{a^{2} q_{0} x}{8} + \\frac{5 a q_{0} x^{2}}{16} - \\frac{q_{0} x^{3}}{6} & \\text{otherwise} \\end{cases}$"
      ],
      "text/plain": [
       "Piecewise((0, x < 0), (a**3*q0/48, a <= x), (-a**2*q0*x/8 + 5*a*q0*x**2/16 - q0*x**3/6, True))"
      ]
     },
     "metadata": {},
     "output_type": "display_data"
    },
    {
     "data": {
      "text/latex": [
       "$\\displaystyle \\begin{cases} 0 & \\text{for}\\: x < 0 \\\\- \\frac{a^{4} q_{0}}{48} + \\frac{a^{3} q_{0} x}{48} & \\text{for}\\: a \\leq x \\\\- \\frac{a^{2} q_{0} x^{2}}{16} + \\frac{5 a q_{0} x^{3}}{48} - \\frac{q_{0} x^{4}}{24} & \\text{otherwise} \\end{cases}$"
      ],
      "text/plain": [
       "Piecewise((0, x < 0), (-a**4*q0/48 + a**3*q0*x/48, a <= x), (-a**2*q0*x**2/16 + 5*a*q0*x**3/48 - q0*x**4/24, True))"
      ]
     },
     "metadata": {},
     "output_type": "display_data"
    }
   ],
   "source": [
    "display(*funcs_var_subs.values())"
   ]
  },
  {
   "cell_type": "markdown",
   "metadata": {},
   "source": [
    "### Parameters substitution"
   ]
  },
  {
   "cell_type": "code",
   "execution_count": 17,
   "metadata": {},
   "outputs": [],
   "source": [
    "assert parameter_values is not None, 'Параметры не заданы'\n",
    "funcs_param_subs = {func_name: func.subs(zip(parameters, parameter_values)) for func_name, func in funcs_var_subs.items()}\n",
    "l_subs = l.subs(zip(parameters, parameter_values))"
   ]
  },
  {
   "cell_type": "code",
   "execution_count": 16,
   "metadata": {},
   "outputs": [
    {
     "data": {
      "text/latex": [
       "$\\displaystyle \\begin{cases} 0 & \\text{for}\\: x < 0 \\\\- \\frac{5}{16} & \\text{for}\\: x = 0 \\\\x - \\frac{5}{8} & \\text{for}\\: x < 1 \\\\x - \\frac{13}{16} & \\text{for}\\: x = 1 \\\\0 & \\text{otherwise} \\end{cases}$"
      ],
      "text/plain": [
       "Piecewise((0, x < 0), (-5/16, Eq(x, 0)), (x - 5/8, x < 1), (x - 13/16, Eq(x, 1)), (0, True))"
      ]
     },
     "metadata": {},
     "output_type": "display_data"
    },
    {
     "data": {
      "text/latex": [
       "$\\displaystyle \\begin{cases} 0 & \\text{for}\\: x \\geq 1 \\vee x < 0 \\\\- \\frac{1}{16} & \\text{for}\\: x = 0 \\\\- \\frac{x^{2}}{2} + \\frac{5 x}{8} - \\frac{1}{8} & \\text{otherwise} \\end{cases}$"
      ],
      "text/plain": [
       "Piecewise((0, (x >= 1) | (x < 0)), (-1/16, Eq(x, 0)), (-x**2/2 + 5*x/8 - 1/8, True))"
      ]
     },
     "metadata": {},
     "output_type": "display_data"
    },
    {
     "data": {
      "text/latex": [
       "$\\displaystyle \\begin{cases} 0 & \\text{for}\\: x < 0 \\\\\\frac{1}{48} & \\text{for}\\: x \\geq 1 \\\\- \\frac{x^{3}}{6} + \\frac{5 x^{2}}{16} - \\frac{x}{8} & \\text{otherwise} \\end{cases}$"
      ],
      "text/plain": [
       "Piecewise((0, x < 0), (1/48, x >= 1), (-x**3/6 + 5*x**2/16 - x/8, True))"
      ]
     },
     "metadata": {},
     "output_type": "display_data"
    },
    {
     "data": {
      "text/latex": [
       "$\\displaystyle \\begin{cases} 0 & \\text{for}\\: x < 0 \\\\\\frac{x}{48} - \\frac{1}{48} & \\text{for}\\: x \\geq 1 \\\\- \\frac{x^{4}}{24} + \\frac{5 x^{3}}{48} - \\frac{x^{2}}{16} & \\text{otherwise} \\end{cases}$"
      ],
      "text/plain": [
       "Piecewise((0, x < 0), (x/48 - 1/48, x >= 1), (-x**4/24 + 5*x**3/48 - x**2/16, True))"
      ]
     },
     "metadata": {},
     "output_type": "display_data"
    }
   ],
   "source": [
    "display(*funcs_param_subs.values())"
   ]
  },
  {
   "cell_type": "markdown",
   "metadata": {},
   "source": [
    "## Final results"
   ]
  },
  {
   "cell_type": "markdown",
   "metadata": {},
   "source": [
    "### Plotting"
   ]
  },
  {
   "cell_type": "code",
   "execution_count": 92,
   "metadata": {},
   "outputs": [
    {
     "data": {
      "image/png": "[encoded data removed]",
      "text/plain": [
       "<Figure size 500x400 with 1 Axes>"
      ]
     },
     "metadata": {},
     "output_type": "display_data"
    },
    {
     "data": {
      "image/png": "[encoded data removed]",
      "text/plain": [
       "<Figure size 500x400 with 1 Axes>"
      ]
     },
     "metadata": {},
     "output_type": "display_data"
    },
    {
     "data": {
      "image/png": "[encoded data removed]",
      "text/plain": [
       "<Figure size 500x400 with 1 Axes>"
      ]
     },
     "metadata": {},
     "output_type": "display_data"
    }
   ],
   "source": [
    "smp.plotting.plot(funcs_param_subs['Q'], (x,0,l_subs), ylabel='Q')\n",
    "plt.show()\n",
    "smp.plotting.plot(funcs_param_subs['M'], (x,0,l_subs), ylabel='M')\n",
    "plt.show()\n",
    "smp.plotting.plot(funcs_param_subs['y']/E/Jcx, (x,0,l_subs), ylabel='y')\n",
    "plt.show()"
   ]
  },
  {
   "cell_type": "code",
   "execution_count": 38,
   "metadata": {},
   "outputs": [],
   "source": [
    "funcs_vect = {func_name: np.vectorize(smp.lambdify(x, func)) for func_name, func in funcs_param_subs.items()}"
   ]
  },
  {
   "cell_type": "code",
   "execution_count": 40,
   "metadata": {},
   "outputs": [
    {
     "data": {
      "image/png": "[encoded data removed]",
      "text/plain": [
       "<Figure size 640x480 with 3 Axes>"
      ]
     },
     "metadata": {},
     "output_type": "display_data"
    }
   ],
   "source": [
    "fig, axes = plt.subplots(3,1)\n",
    "xp = np.linspace(0,float(l_subs),200)\n",
    "xp = np.vstack((xp, xp))\n",
    "for ax, func in zip(axes, (funcs_vect['Q'], funcs_vect['M'], funcs_vect['y'])):\n",
    "    ax.imshow(np.abs(func(xp)), aspect='auto', cmap='plasma')\n",
    "    ax.set_xticks([])\n",
    "    ax.set_yticks([])\n",
    "plt.show()"
   ]
  }
 ],
 "metadata": {
  "kernelspec": {
   "display_name": "Python 3",
   "language": "python",
   "name": "python3"
  },
  "language_info": {
   "codemirror_mode": {
    "name": "ipython",
    "version": 3
   },
   "file_extension": ".py",
   "mimetype": "text/x-python",
   "name": "python",
   "nbconvert_exporter": "python",
   "pygments_lexer": "ipython3",
   "version": "3.10.2"
  },
  "orig_nbformat": 4
 },
 "nbformat": 4,
 "nbformat_minor": 2
}
