{
 "cells": [
  {
   "cell_type": "markdown",
   "metadata": {},
   "source": [
    "### Initial configuration"
   ]
  },
  {
   "cell_type": "code",
   "execution_count": 1,
   "metadata": {},
   "outputs": [],
   "source": [
    "import sympy as smp\n",
    "import numpy as np\n",
    "import matplotlib.pyplot as plt\n",
    "\n",
    "from IPython.core.interactiveshell import InteractiveShell\n",
    "InteractiveShell.ast_node_interactivity = 'last'"
   ]
  },
  {
   "cell_type": "code",
   "execution_count": 2,
   "metadata": {},
   "outputs": [],
   "source": [
    "plt.rcParams['figure.figsize'] = (5,4)"
   ]
  },
  {
   "cell_type": "markdown",
   "metadata": {},
   "source": [
    "## Moment of inertia"
   ]
  },
  {
   "cell_type": "markdown",
   "metadata": {},
   "source": [
    "### Initial conditions"
   ]
  },
  {
   "cell_type": "code",
   "execution_count": 199,
   "metadata": {},
   "outputs": [],
   "source": [
    "E = 200e9\n",
    "\n",
    "vertices = list(zip(\n",
    "    (0, 15e-2, 15e-2, 10e-2, 10e-2, 5e-2, 5e-2, 0), #x-координаты вершин\n",
    "    (0, 0, 5e-2, 5e-2, 10e-2, 10e-2, 5e-2, 5e-2) #y-координаты вершин\n",
    "    ))\n",
    "# vertices = [tuple(smp.S(num) for num in vertex) for vertex in vertices] #float -> sympy\n",
    "vertices.append(vertices[0]) #замыкает многоугольник"
   ]
  },
  {
   "cell_type": "code",
   "execution_count": 200,
   "metadata": {},
   "outputs": [
    {
     "data": {
      "image/png": "[encoded data removed]",
      "text/plain": [
       "<Figure size 500x400 with 1 Axes>"
      ]
     },
     "metadata": {},
     "output_type": "display_data"
    }
   ],
   "source": [
    "fig, ax = plt.subplots()\n",
    "ax.plot(*zip(*vertices))\n",
    "plt.show()"
   ]
  },
  {
   "cell_type": "markdown",
   "metadata": {},
   "source": [
    "### Moments of area"
   ]
  },
  {
   "cell_type": "code",
   "execution_count": 201,
   "metadata": {},
   "outputs": [],
   "source": [
    "A = np.abs(sum(vertices[i][0]*vertices[i+1][1] - vertices[i+1][0]*vertices[i][1] for i in range(len(vertices)-1))/2) #площадь\n",
    "c = (\n",
    "    np.abs(sum((vertices[i][0] + vertices[i+1][0])*(vertices[i][0]*vertices[i+1][1] - vertices[i+1][0]*vertices[i][1]) for i in range(len(vertices)-1))/(6*A)),\n",
    "    np.abs(sum((vertices[i][1] + vertices[i+1][1])*(vertices[i][0]*vertices[i+1][1] - vertices[i+1][0]*vertices[i][1]) for i in range(len(vertices)-1))/(6*A))\n",
    "    ) #координаты центра масс\n",
    "Jx = np.abs(sum((vertices[i][0]*vertices[i+1][1] - vertices[i+1][0]*vertices[i][1])*(vertices[i][0]**2 + vertices[i][0]*vertices[i+1][0] + vertices[i+1][0]**2) for i in range(len(vertices)-1))/12) #момент инеции относительно x\n",
    "Jcx = Jx - A*c[1]**2 #момент инерции относительно оси, параллельной x и проходящей через центр масс"
   ]
  },
  {
   "cell_type": "code",
   "execution_count": 202,
   "metadata": {},
   "outputs": [
    {
     "data": {
      "text/plain": [
       "(0.010000000000000002, (0.075, 0.0375), 5.677083333333332e-05)"
      ]
     },
     "execution_count": 202,
     "metadata": {},
     "output_type": "execute_result"
    }
   ],
   "source": [
    "A, c, Jcx"
   ]
  },
  {
   "cell_type": "markdown",
   "metadata": {},
   "source": [
    "## Internal forces"
   ]
  },
  {
   "cell_type": "markdown",
   "metadata": {},
   "source": [
    "### Initial conditions"
   ]
  },
  {
   "cell_type": "code",
   "execution_count": 170,
   "metadata": {},
   "outputs": [],
   "source": [
    "eps = smp.symbols('varepsilon', positive=True)\n",
    "\n",
    "parameters = smp.symbols('q a M', positive=True) #параметры. Символы y0, dy0, N, t зарезервированы\n",
    "q, a, M = parameters\n",
    "parameter_values = [1e5, 1, 5e4] #значения параметров если даны, иначе None\n",
    "\n",
    "x = smp.symbols('x')"
   ]
  },
  {
   "cell_type": "code",
   "execution_count": 171,
   "metadata": {},
   "outputs": [],
   "source": [
    "l = 3*a #длина балки\n",
    "x_rigid = [] #точки жёсткого крепления\n",
    "x_hinge = [0, a, 2*a] #точки шарнирного крепления\n",
    "q = smp.Piecewise((q, (a <= x) & (x < 2*a)), (0, True)) #распределённая сила\n",
    "F, xF = [], [] #силы и точки их приложения кроме реакций опор\n",
    "t, xt = [M], [3*a] #моменты сил и точки их приложения кроме реакций опор"
   ]
  },
  {
   "cell_type": "code",
   "execution_count": 172,
   "metadata": {},
   "outputs": [],
   "source": [
    "y0, dy0 = smp.symbols('y0, dy0') #y и y' при x = 0\n",
    "N_base, t_base = smp.IndexedBase('N'), smp.IndexedBase('t') #силы и моменты реакций опор\n",
    "\n",
    "F_contact = [N_base[i] for i in range(len(x_rigid) + len(x_hinge))]\n",
    "F.extend(F_contact)\n",
    "xF.extend(x_rigid + x_hinge)\n",
    "t_contact = [t_base[i] for i in range(len(x_rigid))]\n",
    "t.extend(t_contact)\n",
    "xt.extend(x_rigid)\n",
    "pieces = [coord for coord in sorted(xF + xt)]\n",
    "\n",
    "variables = (y0, dy0, *F_contact, *t_contact)"
   ]
  },
  {
   "cell_type": "code",
   "execution_count": 173,
   "metadata": {},
   "outputs": [
    {
     "data": {
      "text/latex": [
       "$\\displaystyle \\left( \\left[ {N}_{0}, \\  {N}_{1}, \\  {N}_{2}\\right], \\  \\left[ 0, \\  a, \\  2 a\\right]\\right)$"
      ],
      "text/plain": [
       "([N[0], N[1], N[2]], [0, a, 2*a])"
      ]
     },
     "metadata": {},
     "output_type": "display_data"
    },
    {
     "data": {
      "text/latex": [
       "$\\displaystyle \\left( \\left[ M\\right], \\  \\left[ 3 a\\right]\\right)$"
      ],
      "text/plain": [
       "([M], [3*a])"
      ]
     },
     "metadata": {},
     "output_type": "display_data"
    }
   ],
   "source": [
    "display(smp.Tuple(F, xF))\n",
    "display(smp.Tuple(t, xt))"
   ]
  },
  {
   "cell_type": "markdown",
   "metadata": {},
   "source": [
    "### Integration"
   ]
  },
  {
   "cell_type": "code",
   "execution_count": 174,
   "metadata": {},
   "outputs": [],
   "source": [
    "simp = lambda func: smp.Piecewise(\n",
    "    *[(func.subs(x, pieces[i]+eps).subs(eps, x-pieces[i]).subs(x, pieces[i+1]-eps).subs(eps, pieces[i+1]-x).simplify(),\n",
    "       ((pieces[i] < x) & (x < pieces[i+1]))) for i in range(len(pieces)-1)])\n",
    "disp = lambda funcs: display(*[simp(func) for func in funcs.values()])"
   ]
  },
  {
   "cell_type": "code",
   "execution_count": 175,
   "metadata": {},
   "outputs": [],
   "source": [
    "funcs = {}\n",
    "manual = False\n",
    "# simp = lambda func: smp.piecewise_fold(func.rewrite(smp.Piecewise)).simplify()\n",
    "\n",
    "funcs['Q'] = smp.integrate(q, (x,0,x), manual=manual) + sum(Fi*smp.Heaviside(x-xi) for Fi, xi in zip(F, xF))\n",
    "funcs['M'] = -smp.integrate(funcs['Q'], (x,0,x), manual=manual) + sum(ti*smp.Heaviside(x-xi) for ti, xi in zip(t, xt))\n",
    "funcs['dy'] = dy0 + smp.integrate(funcs['M'], (x,0,x), manual=manual)\n",
    "funcs['y'] = y0 + smp.integrate(funcs['dy'], (x,0,x), manual=manual)"
   ]
  },
  {
   "cell_type": "code",
   "execution_count": 176,
   "metadata": {},
   "outputs": [
    {
     "data": {
      "text/latex": [
       "$\\displaystyle \\begin{cases} {N}_{0} & \\text{for}\\: a > x \\wedge x > 0 \\\\- a q + q x + {N}_{0} + {N}_{1} & \\text{for}\\: a < x \\wedge x < 2 a \\\\a q + {N}_{0} + {N}_{1} + {N}_{2} & \\text{for}\\: x > 2 a \\wedge x < 3 a \\end{cases}$"
      ],
      "text/plain": [
       "Piecewise((N[0], (a > x) & (x > 0)), (-a*q + q*x + N[0] + N[1], (a < x) & (x < 2*a)), (a*q + N[0] + N[1] + N[2], (x > 2*a) & (x < 3*a)))"
      ]
     },
     "metadata": {},
     "output_type": "display_data"
    },
    {
     "data": {
      "text/latex": [
       "$\\displaystyle \\begin{cases} - x {N}_{0} & \\text{for}\\: a > x \\wedge x > 0 \\\\- \\frac{a^{2} q}{2} + a q x + a {N}_{1} - \\frac{q x^{2}}{2} - x {N}_{0} - x {N}_{1} & \\text{for}\\: a < x \\wedge x < 2 a \\\\\\frac{3 a^{2} q}{2} - a q x + a {N}_{1} + 2 a {N}_{2} - x {N}_{0} - x {N}_{1} - x {N}_{2} & \\text{for}\\: x > 2 a \\wedge x < 3 a \\end{cases}$"
      ],
      "text/plain": [
       "Piecewise((-x*N[0], (a > x) & (x > 0)), (-a**2*q/2 + a*q*x + a*N[1] - q*x**2/2 - x*N[0] - x*N[1], (a < x) & (x < 2*a)), (3*a**2*q/2 - a*q*x + a*N[1] + 2*a*N[2] - x*N[0] - x*N[1] - x*N[2], (x > 2*a) & (x < 3*a)))"
      ]
     },
     "metadata": {},
     "output_type": "display_data"
    },
    {
     "data": {
      "text/latex": [
       "$\\displaystyle \\begin{cases} dy_{0} - \\frac{x^{2} {N}_{0}}{2} & \\text{for}\\: a > x \\wedge x > 0 \\\\\\frac{a^{3} q}{6} - \\frac{a^{2} q x}{2} - \\frac{a^{2} {N}_{1}}{2} + \\frac{a q x^{2}}{2} + a x {N}_{1} + dy_{0} - \\frac{q x^{3}}{6} - \\frac{x^{2} {N}_{0}}{2} - \\frac{x^{2} {N}_{1}}{2} & \\text{for}\\: a < x \\wedge x < 2 a \\\\- \\frac{7 a^{3} q}{6} + \\frac{3 a^{2} q x}{2} - \\frac{a^{2} {N}_{1}}{2} - 2 a^{2} {N}_{2} - \\frac{a q x^{2}}{2} + a x {N}_{1} + 2 a x {N}_{2} + dy_{0} - \\frac{x^{2} {N}_{0}}{2} - \\frac{x^{2} {N}_{1}}{2} - \\frac{x^{2} {N}_{2}}{2} & \\text{for}\\: x > 2 a \\wedge x < 3 a \\end{cases}$"
      ],
      "text/plain": [
       "Piecewise((dy0 - x**2*N[0]/2, (a > x) & (x > 0)), (a**3*q/6 - a**2*q*x/2 - a**2*N[1]/2 + a*q*x**2/2 + a*x*N[1] + dy0 - q*x**3/6 - x**2*N[0]/2 - x**2*N[1]/2, (a < x) & (x < 2*a)), (-7*a**3*q/6 + 3*a**2*q*x/2 - a**2*N[1]/2 - 2*a**2*N[2] - a*q*x**2/2 + a*x*N[1] + 2*a*x*N[2] + dy0 - x**2*N[0]/2 - x**2*N[1]/2 - x**2*N[2]/2, (x > 2*a) & (x < 3*a)))"
      ]
     },
     "metadata": {},
     "output_type": "display_data"
    },
    {
     "data": {
      "text/latex": [
       "$\\displaystyle \\begin{cases} dy_{0} x - \\frac{x^{3} {N}_{0}}{6} + y_{0} & \\text{for}\\: a > x \\wedge x > 0 \\\\- \\frac{a^{4} q}{24} + \\frac{a^{3} q x}{6} + \\frac{a^{3} {N}_{1}}{6} - \\frac{a^{2} q x^{2}}{4} - \\frac{a^{2} x {N}_{1}}{2} + \\frac{a q x^{3}}{6} + \\frac{a x^{2} {N}_{1}}{2} + dy_{0} x - \\frac{q x^{4}}{24} - \\frac{x^{3} {N}_{0}}{6} - \\frac{x^{3} {N}_{1}}{6} + y_{0} & \\text{for}\\: a < x \\wedge x < 2 a \\\\\\frac{5 a^{4} q}{8} - \\frac{7 a^{3} q x}{6} + \\frac{a^{3} {N}_{1}}{6} + \\frac{4 a^{3} {N}_{2}}{3} + \\frac{3 a^{2} q x^{2}}{4} - \\frac{a^{2} x {N}_{1}}{2} - 2 a^{2} x {N}_{2} - \\frac{a q x^{3}}{6} + \\frac{a x^{2} {N}_{1}}{2} + a x^{2} {N}_{2} + dy_{0} x - \\frac{x^{3} {N}_{0}}{6} - \\frac{x^{3} {N}_{1}}{6} - \\frac{x^{3} {N}_{2}}{6} + y_{0} & \\text{for}\\: x > 2 a \\wedge x < 3 a \\end{cases}$"
      ],
      "text/plain": [
       "Piecewise((dy0*x - x**3*N[0]/6 + y0, (a > x) & (x > 0)), (-a**4*q/24 + a**3*q*x/6 + a**3*N[1]/6 - a**2*q*x**2/4 - a**2*x*N[1]/2 + a*q*x**3/6 + a*x**2*N[1]/2 + dy0*x - q*x**4/24 - x**3*N[0]/6 - x**3*N[1]/6 + y0, (a < x) & (x < 2*a)), (5*a**4*q/8 - 7*a**3*q*x/6 + a**3*N[1]/6 + 4*a**3*N[2]/3 + 3*a**2*q*x**2/4 - a**2*x*N[1]/2 - 2*a**2*x*N[2] - a*q*x**3/6 + a*x**2*N[1]/2 + a*x**2*N[2] + dy0*x - x**3*N[0]/6 - x**3*N[1]/6 - x**3*N[2]/6 + y0, (x > 2*a) & (x < 3*a)))"
      ]
     },
     "metadata": {},
     "output_type": "display_data"
    }
   ],
   "source": [
    "disp(funcs)"
   ]
  },
  {
   "cell_type": "markdown",
   "metadata": {},
   "source": [
    "### Solving for contact forces"
   ]
  },
  {
   "cell_type": "code",
   "execution_count": 177,
   "metadata": {},
   "outputs": [],
   "source": [
    "eq_system = [\n",
    "    funcs['Q'].subs(x, l+eps).subs(eps, 0), #сумма всех сил\n",
    "    funcs['M'].subs(x, l+eps).subs(eps, 0), #сумма всех моментов сил\n",
    "    *[funcs['y'].subs(x, coord) for coord in x_rigid + x_hinge], #условия крепления\n",
    "    *[funcs['dy'].subs(x, coord) for coord in x_rigid]\n",
    "]"
   ]
  },
  {
   "cell_type": "code",
   "execution_count": 178,
   "metadata": {},
   "outputs": [
    {
     "data": {
      "text/latex": [
       "$\\displaystyle a q + {N}_{0} + {N}_{1} + {N}_{2}$"
      ],
      "text/plain": [
       "a*q + N[0] + N[1] + N[2]"
      ]
     },
     "metadata": {},
     "output_type": "display_data"
    },
    {
     "data": {
      "text/latex": [
       "$\\displaystyle M - \\frac{3 a^{2} q}{2} - a \\left(- a q + {N}_{0} + {N}_{1}\\right) - a \\left(a q + {N}_{0} + {N}_{1} + {N}_{2}\\right) - a {N}_{0}$"
      ],
      "text/plain": [
       "M - 3*a**2*q/2 - a*(-a*q + N[0] + N[1]) - a*(a*q + N[0] + N[1] + N[2]) - a*N[0]"
      ]
     },
     "metadata": {},
     "output_type": "display_data"
    },
    {
     "data": {
      "text/latex": [
       "$\\displaystyle y_{0}$"
      ],
      "text/plain": [
       "y0"
      ]
     },
     "metadata": {},
     "output_type": "display_data"
    },
    {
     "data": {
      "text/latex": [
       "$\\displaystyle - \\frac{a^{3} {N}_{0}}{6} + a dy_{0} + y_{0}$"
      ],
      "text/plain": [
       "-a**3*N[0]/6 + a*dy0 + y0"
      ]
     },
     "metadata": {},
     "output_type": "display_data"
    },
    {
     "data": {
      "text/latex": [
       "$\\displaystyle - \\frac{5 a^{4} q}{8} + 7 a^{3} \\left(\\frac{a q}{6} - \\frac{{N}_{0}}{6} - \\frac{{N}_{1}}{6}\\right) - \\frac{a^{3} {N}_{0}}{6} + 3 a^{2} \\left(- \\frac{a^{2} q}{4} + \\frac{a {N}_{1}}{2}\\right) + a dy_{0} + a \\left(\\frac{a^{3} q}{6} - \\frac{a^{2} {N}_{1}}{2} + dy_{0}\\right) + y_{0}$"
      ],
      "text/plain": [
       "-5*a**4*q/8 + 7*a**3*(a*q/6 - N[0]/6 - N[1]/6) - a**3*N[0]/6 + 3*a**2*(-a**2*q/4 + a*N[1]/2) + a*dy0 + a*(a**3*q/6 - a**2*N[1]/2 + dy0) + y0"
      ]
     },
     "metadata": {},
     "output_type": "display_data"
    }
   ],
   "source": [
    "display(*eq_system)"
   ]
  },
  {
   "cell_type": "code",
   "execution_count": 179,
   "metadata": {},
   "outputs": [
    {
     "data": {
      "text/latex": [
       "$\\displaystyle \\left( y_{0}, \\  dy_{0}, \\  {N}_{0}, \\  {N}_{1}, \\  {N}_{2}\\right)$"
      ],
      "text/plain": [
       "(y0, dy0, N[0], N[1], N[2])"
      ]
     },
     "metadata": {},
     "output_type": "display_data"
    },
    {
     "data": {
      "text/latex": [
       "$\\displaystyle \\left( 0, \\  - \\frac{M a}{24} + \\frac{a^{3} q}{96}, \\  \\frac{- 4 M + a^{2} q}{16 a}, \\  \\frac{12 M - 5 a^{2} q}{8 a}, \\  \\frac{- 20 M - 7 a^{2} q}{16 a}\\right)$"
      ],
      "text/plain": [
       "(0, -M*a/24 + a**3*q/96, (-4*M + a**2*q)/(16*a), (12*M - 5*a**2*q)/(8*a), (-20*M - 7*a**2*q)/(16*a))"
      ]
     },
     "metadata": {},
     "output_type": "display_data"
    }
   ],
   "source": [
    "solution = smp.linsolve(eq_system, *variables)\n",
    "assert len(solution) == 1, 'Решение не единственно'\n",
    "variable_values = list(solution)[0]\n",
    "display(smp.Tuple(*variables))\n",
    "display(variable_values)"
   ]
  },
  {
   "cell_type": "markdown",
   "metadata": {},
   "source": [
    "### Variables substitution"
   ]
  },
  {
   "cell_type": "code",
   "execution_count": 182,
   "metadata": {},
   "outputs": [],
   "source": [
    "funcs_var_subs = {func_name: func.subs(zip(variables, variable_values)) for func_name, func in funcs.items()}"
   ]
  },
  {
   "cell_type": "code",
   "execution_count": 183,
   "metadata": {},
   "outputs": [
    {
     "data": {
      "text/latex": [
       "$\\displaystyle \\begin{cases} - \\frac{M}{4 a} + \\frac{a q}{16} & \\text{for}\\: a > x \\wedge x > 0 \\\\\\frac{5 M}{4 a} - \\frac{25 a q}{16} + q x & \\text{for}\\: a < x \\wedge x < 2 a \\\\0 & \\text{for}\\: x > 2 a \\wedge x < 3 a \\end{cases}$"
      ],
      "text/plain": [
       "Piecewise((-M/(4*a) + a*q/16, (a > x) & (x > 0)), (5*M/(4*a) - 25*a*q/16 + q*x, (a < x) & (x < 2*a)), (0, (x > 2*a) & (x < 3*a)))"
      ]
     },
     "metadata": {},
     "output_type": "display_data"
    },
    {
     "data": {
      "text/latex": [
       "$\\displaystyle \\begin{cases} \\frac{x \\left(4 M - a^{2} q\\right)}{16 a} & \\text{for}\\: a > x \\wedge x > 0 \\\\\\frac{2 a \\left(12 M - 9 a^{2} q - 4 q x^{2}\\right) + 5 x \\left(- 4 M + 5 a^{2} q\\right)}{16 a} & \\text{for}\\: a < x \\wedge x < 2 a \\\\- M & \\text{for}\\: x > 2 a \\wedge x < 3 a \\end{cases}$"
      ],
      "text/plain": [
       "Piecewise((x*(4*M - a**2*q)/(16*a), (a > x) & (x > 0)), ((2*a*(12*M - 9*a**2*q - 4*q*x**2) + 5*x*(-4*M + 5*a**2*q))/(16*a), (a < x) & (x < 2*a)), (-M, (x > 2*a) & (x < 3*a)))"
      ]
     },
     "metadata": {},
     "output_type": "display_data"
    },
    {
     "data": {
      "text/latex": [
       "$\\displaystyle \\begin{cases} \\frac{a^{2} \\left(- 4 M + a^{2} q\\right) + 3 x^{2} \\cdot \\left(4 M - a^{2} q\\right)}{96 a} & \\text{for}\\: a > x \\wedge x > 0 \\\\\\frac{- 76 M a^{2} + 144 M a x - 60 M x^{2} + 47 a^{4} q - 108 a^{3} q x + 75 a^{2} q x^{2} - 16 a q x^{3}}{96 a} & \\text{for}\\: a < x \\wedge x < 2 a \\\\\\frac{41 M a}{24} - M x + \\frac{a^{3} q}{32} & \\text{for}\\: x > 2 a \\wedge x < 3 a \\end{cases}$"
      ],
      "text/plain": [
       "Piecewise(((a**2*(-4*M + a**2*q) + 3*x**2*(4*M - a**2*q))/(96*a), (a > x) & (x > 0)), ((-76*M*a**2 + 144*M*a*x - 60*M*x**2 + 47*a**4*q - 108*a**3*q*x + 75*a**2*q*x**2 - 16*a*q*x**3)/(96*a), (a < x) & (x < 2*a)), (41*M*a/24 - M*x + a**3*q/32, (x > 2*a) & (x < 3*a)))"
      ]
     },
     "metadata": {},
     "output_type": "display_data"
    },
    {
     "data": {
      "text/latex": [
       "$\\displaystyle \\begin{cases} \\frac{x \\left(4 M - a^{2} q\\right) \\left(- a^{2} + x^{2}\\right)}{96 a} & \\text{for}\\: a > x \\wedge x > 0 \\\\\\frac{24 M a^{3} - 76 M a^{2} x + 72 M a x^{2} - 20 M x^{3} - 14 a^{5} q + 47 a^{4} q x - 54 a^{3} q x^{2} + 25 a^{2} q x^{3} - 4 a q x^{4}}{96 a} & \\text{for}\\: a < x \\wedge x < 2 a \\\\- \\frac{17 M a^{2}}{12} + \\frac{41 M a x}{24} - \\frac{M x^{2}}{2} - \\frac{a^{4} q}{16} + \\frac{a^{3} q x}{32} & \\text{for}\\: x > 2 a \\wedge x < 3 a \\end{cases}$"
      ],
      "text/plain": [
       "Piecewise((x*(4*M - a**2*q)*(-a**2 + x**2)/(96*a), (a > x) & (x > 0)), ((24*M*a**3 - 76*M*a**2*x + 72*M*a*x**2 - 20*M*x**3 - 14*a**5*q + 47*a**4*q*x - 54*a**3*q*x**2 + 25*a**2*q*x**3 - 4*a*q*x**4)/(96*a), (a < x) & (x < 2*a)), (-17*M*a**2/12 + 41*M*a*x/24 - M*x**2/2 - a**4*q/16 + a**3*q*x/32, (x > 2*a) & (x < 3*a)))"
      ]
     },
     "metadata": {},
     "output_type": "display_data"
    }
   ],
   "source": [
    "disp(funcs_var_subs)"
   ]
  },
  {
   "cell_type": "markdown",
   "metadata": {},
   "source": [
    "### Parameters substitution"
   ]
  },
  {
   "cell_type": "code",
   "execution_count": 184,
   "metadata": {},
   "outputs": [],
   "source": [
    "assert parameter_values is not None, 'Параметры не заданы'\n",
    "funcs_param_subs = {func_name: func.subs(zip(parameters, parameter_values)) for func_name, func in funcs_var_subs.items()}\n",
    "l_subs = l.subs(zip(parameters, parameter_values))"
   ]
  },
  {
   "cell_type": "code",
   "execution_count": 192,
   "metadata": {},
   "outputs": [
    {
     "data": {
      "text/latex": [
       "$\\displaystyle \\begin{cases} 0 & \\text{for}\\: x < 0 \\\\-3125.0 & \\text{for}\\: x = 0 \\\\-6250.0 & \\text{for}\\: x < 1 \\\\0 & \\text{for}\\: x = 1 \\\\100000.0 x - 93750.0 & \\text{for}\\: x < 2 \\\\53125.0 & \\text{for}\\: x = 2 \\\\0 & \\text{otherwise} \\end{cases}$"
      ],
      "text/plain": [
       "Piecewise((0, x < 0), (-3125.0, Eq(x, 0)), (-6250.0, x < 1), (0, Eq(x, 1)), (100000.0*x - 93750.0, x < 2), (53125.0, Eq(x, 2)), (0, True))"
      ]
     },
     "metadata": {},
     "output_type": "display_data"
    },
    {
     "data": {
      "text/latex": [
       "$\\displaystyle \\begin{cases} 0 & \\text{for}\\: x < 0 \\\\-50000.0 & \\text{for}\\: x \\geq 2 \\wedge x < 3 \\\\-25000.0 & \\text{for}\\: x = 3 \\\\0 & \\text{for}\\: x \\geq 2 \\\\- 50000.0 x^{2} + 93750.0 x - 37500.0 & \\text{for}\\: x \\geq 1 \\wedge x < 3 \\\\- 50000.0 x^{2} + 93750.0 x + 12500.0 & \\text{for}\\: x \\geq 1 \\\\6250.0 x & \\text{for}\\: x < 3 \\\\6250.0 x + 50000.0 & \\text{otherwise} \\end{cases}$"
      ],
      "text/plain": [
       "Piecewise((0, x < 0), (-50000.0, (x >= 2) & (x < 3)), (-25000.0, Eq(x, 3)), (0, x >= 2), (-50000.0*x**2 + 93750.0*x - 37500.0, (x >= 1) & (x < 3)), (-50000.0*x**2 + 93750.0*x + 12500.0, x >= 1), (6250.0*x, x < 3), (6250.0*x + 50000.0, True))"
      ]
     },
     "metadata": {},
     "output_type": "display_data"
    },
    {
     "data": {
      "text/latex": [
       "$\\displaystyle \\begin{cases} -1041.66666666667 & \\text{for}\\: x < 0 \\\\-61458.3333333333 & \\text{for}\\: x \\geq 3 \\\\88541.6666666667 - 50000.0 x & \\text{for}\\: x \\geq 2 \\\\- 16666.6666666667 x^{3} + 46875.0 x^{2} - 37500.0 x + 9375.0 & \\text{for}\\: x \\geq 1 \\\\3125.0 x^{2} - 1041.66666666667 & \\text{otherwise} \\end{cases}$"
      ],
      "text/plain": [
       "Piecewise((-1041.66666666667, x < 0), (-61458.3333333333, x >= 3), (88541.6666666667 - 50000.0*x, x >= 2), (-16666.6666666667*x**3 + 46875.0*x**2 - 37500.0*x + 9375.0, x >= 1), (3125.0*x**2 - 1041.66666666667, True))"
      ]
     },
     "metadata": {},
     "output_type": "display_data"
    },
    {
     "data": {
      "text/latex": [
       "$\\displaystyle \\begin{cases} - 1041.66666666667 x & \\text{for}\\: x < 0 \\\\1.36424205265939 \\cdot 10^{-12} x^{3} - 61458.3333333333 x + 147916.666666667 & \\text{for}\\: x \\geq 3 \\\\1.36424205265939 \\cdot 10^{-12} x^{3} - 25000.0 x^{2} + 88541.6666666667 x - 77083.3333333334 & \\text{for}\\: x \\geq 2 \\\\- 4166.66666666667 x^{4} + 15625.0 x^{3} - 18750.0 x^{2} + 9375.00000000001 x - 2083.33333333334 & \\text{for}\\: x \\geq 1 \\\\x \\left(1041.66666666667 x^{2} - 1041.66666666666\\right) & \\text{otherwise} \\end{cases}$"
      ],
      "text/plain": [
       "Piecewise((-1041.66666666667*x, x < 0), (1.36424205265939e-12*x**3 - 61458.3333333333*x + 147916.666666667, x >= 3), (1.36424205265939e-12*x**3 - 25000.0*x**2 + 88541.6666666667*x - 77083.3333333334, x >= 2), (-4166.66666666667*x**4 + 15625.0*x**3 - 18750.0*x**2 + 9375.00000000001*x - 2083.33333333334, x >= 1), (x*(1041.66666666667*x**2 - 1041.66666666666), True))"
      ]
     },
     "metadata": {},
     "output_type": "display_data"
    }
   ],
   "source": [
    "display(*[smp.piecewise_fold(func.rewrite(smp.Piecewise)).simplify() for func in funcs_param_subs.values()])"
   ]
  },
  {
   "cell_type": "markdown",
   "metadata": {},
   "source": [
    "## Final results"
   ]
  },
  {
   "cell_type": "markdown",
   "metadata": {},
   "source": [
    "### Plotting"
   ]
  },
  {
   "cell_type": "code",
   "execution_count": 203,
   "metadata": {},
   "outputs": [
    {
     "data": {
      "image/png": "[encoded data removed]",
      "text/plain": [
       "<Figure size 500x400 with 1 Axes>"
      ]
     },
     "metadata": {},
     "output_type": "display_data"
    },
    {
     "data": {
      "image/png": "[encoded data removed]",
      "text/plain": [
       "<Figure size 500x400 with 1 Axes>"
      ]
     },
     "metadata": {},
     "output_type": "display_data"
    },
    {
     "data": {
      "image/png": "[encoded data removed]",
      "text/plain": [
       "<Figure size 500x400 with 1 Axes>"
      ]
     },
     "metadata": {},
     "output_type": "display_data"
    }
   ],
   "source": [
    "smp.plotting.plot(funcs_param_subs['Q'], (x,0,l_subs), ylabel='Q')\n",
    "plt.show()\n",
    "smp.plotting.plot(funcs_param_subs['M'], (x,0,l_subs), ylabel='M')\n",
    "plt.show()\n",
    "smp.plotting.plot(funcs_param_subs['y']/E/Jcx, (x,0,l_subs), ylabel='y')\n",
    "plt.show()"
   ]
  },
  {
   "cell_type": "code",
   "execution_count": 204,
   "metadata": {},
   "outputs": [],
   "source": [
    "funcs_vect = {func_name: np.vectorize(smp.lambdify(x, func)) for func_name, func in funcs_param_subs.items()}"
   ]
  },
  {
   "cell_type": "code",
   "execution_count": 205,
   "metadata": {},
   "outputs": [
    {
     "name": "stderr",
     "output_type": "stream",
     "text": [
      "c:\\Users\\georg\\AppData\\Local\\Programs\\Python\\Python310\\lib\\site-packages\\numpy\\lib\\function_base.py:2412: RuntimeWarning: invalid value encountered in _lambdifygenerated (vectorized)\n",
      "  outputs = ufunc(*inputs)\n"
     ]
    },
    {
     "data": {
      "image/png": "[encoded data removed]",
      "text/plain": [
       "<Figure size 500x400 with 3 Axes>"
      ]
     },
     "metadata": {},
     "output_type": "display_data"
    }
   ],
   "source": [
    "fig, axes = plt.subplots(3,1)\n",
    "xp = np.linspace(0,float(l_subs),200)\n",
    "xp = np.vstack((xp, xp))\n",
    "for ax, func in zip(axes, (funcs_vect['Q'], funcs_vect['M'], funcs_vect['y'])):\n",
    "    ax.imshow(np.abs(func(xp)), aspect='auto', cmap='plasma')\n",
    "    ax.set_xticks([])\n",
    "    ax.set_yticks([])\n",
    "plt.show()"
   ]
  }
 ],
 "metadata": {
  "kernelspec": {
   "display_name": "Python 3",
   "language": "python",
   "name": "python3"
  },
  "language_info": {
   "codemirror_mode": {
    "name": "ipython",
    "version": 3
   },
   "file_extension": ".py",
   "mimetype": "text/x-python",
   "name": "python",
   "nbconvert_exporter": "python",
   "pygments_lexer": "ipython3",
   "version": "3.10.2"
  },
  "orig_nbformat": 4
 },
 "nbformat": 4,
 "nbformat_minor": 2
}
